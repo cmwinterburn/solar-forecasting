{
 "cells": [
  {
   "cell_type": "code",
   "execution_count": null,
   "id": "0",
   "metadata": {},
   "outputs": [],
   "source": [
    "import pandas as pd"
   ]
  },
  {
   "cell_type": "code",
   "execution_count": null,
   "id": "1",
   "metadata": {},
   "outputs": [],
   "source": [
    "# Read in GOES flare event data.\n",
    "dump = pd.read_csv(\"goes_dump.csv\")"
   ]
  },
  {
   "cell_type": "code",
   "execution_count": null,
   "id": "2",
   "metadata": {},
   "outputs": [],
   "source": [
    "# Process flare classes into dataframe to inspect range.\n",
    "flare_classes = pd.DataFrame(dump[\"goes_class\"].unique(), columns=[\"goes_class\"])\n",
    "flare_classes = flare_classes.sort_values(\"goes_class\")\n",
    "flare_classes.reset_index(drop=True)\n"
   ]
  },
  {
   "cell_type": "code",
   "execution_count": null,
   "id": "3",
   "metadata": {},
   "outputs": [],
   "source": [
    "# Split out subclasses to assign each sequence a class letter and a sub value (intensity).\n",
    "# Split \"goes_class\" into letter and number\n",
    "\n",
    "split_classes = dump.copy()\n",
    "split_classes[[\"class_letter\", \"class_value\"]] = split_classes[\"goes_class\"].str.extract(r\"([A-Z])([0-9.]+)\")\n",
    "split_classes[\"class_value\"] = split_classes[\"class_value\"].astype(float)\n",
    "split_classes.head()\n"
   ]
  },
  {
   "cell_type": "code",
   "execution_count": null,
   "id": "4",
   "metadata": {},
   "outputs": [],
   "source": [
    "# Print the class intensity table from the literature.\n",
    "\n",
    "class_intensity = pd.DataFrame({\n",
    "    \"class\": [\"A\", \"B\", \"C\", \"M\", \"X\"],\n",
    "    \"intensity W/m^2\": [1e-8, 1e-7, 1e-6, 1e-5, 1e-4]\n",
    "})\n",
    "\n",
    "print(class_intensity)\n",
    "\n",
    "# Write table to csv.\n",
    "#class_intensity.to_csv(\"solar_flare_class_intensity.csv\", index=False)\n"
   ]
  },
  {
   "cell_type": "code",
   "execution_count": null,
   "id": "5",
   "metadata": {},
   "outputs": [],
   "source": [
    "# Define the class base level intensities as a dictionary\n",
    "class_multipliers = dict(zip(class_intensity[\"class\"], class_intensity[\"intensity W/m^2\"]))\n",
    "\n",
    "# Compute the intensity using table from literature.\n",
    "split_classes[\"intensity_W/m^2\"] = split_classes[\"class_letter\"].map(class_multipliers) * split_classes[\"class_value\"]\n",
    "\n",
    "split_classes\n"
   ]
  },
  {
   "cell_type": "code",
   "execution_count": null,
   "id": "6",
   "metadata": {},
   "outputs": [],
   "source": [
    "# Store data as CSV to merge with parent SHARP dataset.\n",
    "split_classes.to_csv(\"flare_events.csv\")"
   ]
  }
 ],
 "metadata": {
  "kernelspec": {
   "display_name": "venv (3.12.5)",
   "language": "python",
   "name": "python3"
  },
  "language_info": {
   "codemirror_mode": {
    "name": "ipython",
    "version": 3
   },
   "file_extension": ".py",
   "mimetype": "text/x-python",
   "name": "python",
   "nbconvert_exporter": "python",
   "pygments_lexer": "ipython3",
   "version": "3.12.5"
  }
 },
 "nbformat": 4,
 "nbformat_minor": 5
}
